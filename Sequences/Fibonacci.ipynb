{
 "cells": [
  {
   "cell_type": "markdown",
   "metadata": {},
   "source": [
    "##### Author: Ryan Adoni\n",
    "##### Date: 9/22/2021\n",
    "##### Description: Functions relating to the Fibonacci Sequence. "
   ]
  },
  {
   "cell_type": "markdown",
   "metadata": {},
   "source": [
    "#### Imports"
   ]
  },
  {
   "cell_type": "code",
   "execution_count": 10,
   "metadata": {},
   "outputs": [],
   "source": [
    "import timeit\n",
    "import sys\n",
    "from math import sqrt\n",
    "import numpy as np\n",
    "from functools import cache\n",
    "\n",
    "# Set the recursion limit to some high number\n",
    "# for testing for the recursive function.\n",
    "sys.setrecursionlimit(10000)"
   ]
  },
  {
   "cell_type": "markdown",
   "metadata": {},
   "source": [
    "The Fibonacci Sequence is defined as follows:\n",
    "\n",
    "$\\forall n: n \\gt 0$\n",
    "$ \\newline F_0 = 0$, $F_1 = 1$, and $\\newline$\n",
    "$F_n = F_{n-1} + F_{n-2}$"
   ]
  },
  {
   "cell_type": "code",
   "execution_count": 11,
   "metadata": {},
   "outputs": [],
   "source": [
    "def recursiveFibonacci(n):\n",
    "    \"\"\"\n",
    "    An implementation of the Fibonacci sequence using recursion\n",
    "    (a pretty poor implementation).  Takes in a positive integer\n",
    "    or zero, n, and returns the nth Fibonacci number.\n",
    "    \"\"\"\n",
    "\n",
    "    # Make sure a valid n was entered.\n",
    "    if n < 0:\n",
    "        return None  # Return None if a number less than 0 was entered.\n",
    "\n",
    "    # The base case for the recursion.\n",
    "    if n <= 2:\n",
    "\n",
    "        # Return 1 for the first and second Fibonacci\n",
    "        # number.  Return 0 for the zeroth Fibonacci number.\n",
    "        return 0 if n == 0 else 1\n",
    "\n",
    "    # Recurse to return the nth Fibonacci number.\n",
    "    return recursiveFibonacci(n-1) + recursiveFibonacci(n-2)"
   ]
  },
  {
   "cell_type": "code",
   "execution_count": 12,
   "metadata": {},
   "outputs": [],
   "source": [
    "def recursiveMemoizedFibonacci(n):\n",
    "    \"\"\"\n",
    "    An implementation of the Fibonacci sequence using\n",
    "    memoized recursion.  Takes in a positive integer\n",
    "    or zero, n, and returns the nth Fibonacci number.\n",
    "    \"\"\"\n",
    "\n",
    "    # A dictionary to store Fibonacci values\n",
    "    # that have been calculated already.\n",
    "    FibonacciDictionary = {}\n",
    "\n",
    "    def recursiveMemoizedFibonacciHelper(n):\n",
    "        # Make sure a valid n was entered.\n",
    "        if n < 0:\n",
    "            return None  # Return None if a number less than 0 was entered.\n",
    "\n",
    "        # The base case for the recursion.\n",
    "        if n <= 2:\n",
    "\n",
    "            # Return 1 for the first and second Fibonacci number.\n",
    "            # Return 0 for the zeroth Fibonacci number.\n",
    "            return 0 if n == 0 else 1\n",
    "\n",
    "        # Check if the n-1th Fibonacci number has been calculated already.\n",
    "        if n - 1 not in FibonacciDictionary:\n",
    "\n",
    "            # Calculate the value of the n-1st Fibonacci value and\n",
    "            # at it to the dictionary, FibonacciDictionary.\n",
    "            FibonacciDictionary[n-1] = recursiveMemoizedFibonacciHelper(n-1)\n",
    "\n",
    "        # Check if the n-2nd Fibonacci number has been calculated already.\n",
    "        if n - 2 not in FibonacciDictionary:\n",
    "\n",
    "            # Calculate the value of the n-2st Fibonacci value and\n",
    "            # at it to the dictionary, FibonacciDictionary.\n",
    "            FibonacciDictionary[n-2] = recursiveMemoizedFibonacciHelper(n-2)\n",
    "\n",
    "        # Recurse to return the nth Fibonacci number.\n",
    "        return FibonacciDictionary[n-1] + FibonacciDictionary[n-2]\n",
    "\n",
    "    # Return the output of the helper function.\n",
    "    return recursiveMemoizedFibonacciHelper(n)"
   ]
  },
  {
   "cell_type": "code",
   "execution_count": 13,
   "metadata": {},
   "outputs": [],
   "source": [
    "@cache  # Memoizes the function using native Python.\n",
    "def recursiveNativeMemoizedFibonacci(n):\n",
    "    \"\"\"\n",
    "    An implementation of the Fibonacci sequence using\n",
    "    memoized recursion.  Takes in a positive integer\n",
    "    or zero, n, and returns the nth Fibonacci number.\n",
    "    \"\"\"\n",
    "\n",
    "    # Make sure a valid n was entered.\n",
    "    if n < 0:\n",
    "        return None  # Return None if a number less than 0 was entered.\n",
    "\n",
    "    # The base case for the recursion.\n",
    "    if n <= 2:\n",
    "\n",
    "        # Return 1 for the first and second Fibonacci\n",
    "        # number.  Return 0 for the zeroth Fibonacci number.\n",
    "        return 0 if n == 0 else 1\n",
    "\n",
    "    # Recurse to return the nth Fibonacci number.\n",
    "    return recursiveFibonacci(n-1) + recursiveFibonacci(n-2)"
   ]
  },
  {
   "cell_type": "code",
   "execution_count": 14,
   "metadata": {},
   "outputs": [],
   "source": [
    "def recursiveMatrixFibonacci(N):\n",
    "    \"\"\"\n",
    "    An implementation of the Fibonacci sequence using the matrix\n",
    "    representation of Fibonacci numbers.  Takes in a positive\n",
    "    integer or zero, N, and returns the Nth Fibonacci number (Requires NumPy).\n",
    "    \"\"\"\n",
    "    A = np.array([[1, 1], [1, 0]])  # Ininitialize the matrix, A.\n",
    "\n",
    "    def helper(n, F):\n",
    "        \"\"\"\n",
    "        A helper function to execute most of the work and so\n",
    "        A is not repeatedly instantiated on the recursive\n",
    "        stack.  Takes in the current Fibonacci number, n,\n",
    "        and a matrix representation of Fn and Fn+1, F.\n",
    "        \"\"\"\n",
    "\n",
    "        # Base case.  Checks if n is equal to N.\n",
    "        if n == N:\n",
    "            return F[0][0]  # return the Nth Fibonacci number.\n",
    "\n",
    "        # Call the helper.  Increment n and dot A with F.\n",
    "        return helper(n + 1, A @ F)\n",
    "\n",
    "    # Call and return the helper using\n",
    "    # it's initial values.\n",
    "    return helper(0, np.array([[0], [1]]))"
   ]
  },
  {
   "cell_type": "code",
   "execution_count": 15,
   "metadata": {},
   "outputs": [],
   "source": [
    "def fibonacciGenerator():\n",
    "    \"\"\"\n",
    "    A generator to generate numbers in the Fibonacci sequence sequentially\n",
    "    \"\"\"\n",
    "    nFib = nPlusOnefib = 1  # Set the nth and n+1th Fibonacci number.\n",
    "\n",
    "    # Loop forever.\n",
    "    while True:\n",
    "        yield nFib  # Yield nth Fibonacci number.\n",
    "        nPlusTwoFib = nFib + nPlusOnefib  # Calculate next Fibonacci number.\n",
    "        nFib = nPlusOnefib  # Update nth Fibonacci number.\n",
    "        nPlusOnefib = nPlusTwoFib  # Update n+1th Fibonacci number.\n",
    "\n",
    "\n",
    "def generatorFibonacci(n):\n",
    "    \"\"\"\n",
    "    Takes as input a positive integer, n, then uses a Python\n",
    "    generator to generate the nth Fibonacci nummber.\n",
    "    \"\"\"\n",
    "    fibGenerator = fibonacciGenerator()  # Instantiate the Fibonacci generator.\n",
    "\n",
    "    # Loop for n - 1 times to calcualte the n-1st Fibonacci number.\n",
    "    for _ in range(n-1):\n",
    "        next(fibGenerator)  # Calculate the next Fibonacci number.\n",
    "\n",
    "    return next(fibGenerator)  # Return the nth Fibonacci number."
   ]
  },
  {
   "cell_type": "code",
   "execution_count": 16,
   "metadata": {},
   "outputs": [],
   "source": [
    "def iterativeFibonacci(n):\n",
    "    \"\"\"\n",
    "    An implementation of the Fibonacci sequence using iteration.  Takes\n",
    "    in a positive integer or zero, n, and returns the nth Fibonacci number.\n",
    "    \"\"\"\n",
    "\n",
    "    # Make sure a valid n was entered.\n",
    "    if n <= 0:\n",
    "\n",
    "        # Return None if a number less than 0\n",
    "        # was entered and 0 if 0 was entered.\n",
    "        return None if n < 0 else 0\n",
    "\n",
    "    # Set two variables representing the\n",
    "    # nth and n+1th Fibonacci numbers.\n",
    "    n0, n1 = 0, 1\n",
    "\n",
    "    # Loop until n is 0 and decrement n each iteration.\n",
    "    while (n := n-1):\n",
    "\n",
    "        # Set n0 to n1 and n1 to the sum\n",
    "        # of the previous two numbers.\n",
    "        n0, n1 = n1, n0 + n1\n",
    "\n",
    "    return n1  # return n0, the nth Fibonacci number."
   ]
  },
  {
   "cell_type": "code",
   "execution_count": 17,
   "metadata": {},
   "outputs": [],
   "source": [
    "def binetFibonacci(n):\n",
    "    \"\"\"\n",
    "    An implementation of the Fibonacci sequence using the Binet formula,\n",
    "    the fact that the nth Fibonacci number satisfies the following\n",
    "    equation: Fn =  [phi^n / sqrt(5)] where phi = (1 + sqrt(5)) / 2 and\n",
    "    [] represents the closest integer function.  Takes in a positive\n",
    "    integer or zero, n, and returns the nth Fibonacci number.\n",
    "    \"\"\"\n",
    "\n",
    "    # Use a simplified version of the Binet formula to\n",
    "    # calculate and return the nth Fibonacci number.\n",
    "    return round(((1 + sqrt(5)) / 2) ** n / sqrt(5))"
   ]
  },
  {
   "cell_type": "markdown",
   "metadata": {},
   "source": [
    "#### Helper Functions for Testing"
   ]
  },
  {
   "cell_type": "code",
   "execution_count": 18,
   "metadata": {},
   "outputs": [],
   "source": [
    "def wrapper(func, *args, **kwargs):\n",
    "    \"\"\"\n",
    "    Define a wrapper to pass functions to the timeit function\n",
    "    \"\"\"\n",
    "    def wrapped():\n",
    "        \"\"\"\n",
    "        A helper function.\n",
    "        \"\"\"\n",
    "        return func(*args, **kwargs)  # Call and return the wrapped function.\n",
    "\n",
    "    return wrapped  # Return the wrapper.\n",
    "\n",
    "\n",
    "def timeFibonacci(functions, n, attempts):\n",
    "    \"\"\"\n",
    "    Takes as input a list of functions that map positive integers\n",
    "    to their nth Fibonacci numbers, functions, and two positive\n",
    "    integers, n and attempts and times the Fibonacci functions on\n",
    "    input n for attempts times.  The function times each funtion\n",
    "    and prints the timing results of each function in functions ran\n",
    "    attempts times and averaged over the number of attempts.\n",
    "    \"\"\"\n",
    "\n",
    "    # Loop for all functions in lst.\n",
    "    for function in functions:\n",
    "\n",
    "        # Calculate the average time to run the function on n\n",
    "        # attempts times and print the result nicely.\n",
    "        time = timeit.timeit(wrapper(function, n), number=attempts)\n",
    "        print(f\"{function.__name__} ran for {time} seconds on average over\"\n",
    "              f\" {attempts} function calls.\")"
   ]
  },
  {
   "cell_type": "markdown",
   "metadata": {},
   "source": [
    "#### Main "
   ]
  },
  {
   "cell_type": "code",
   "execution_count": 19,
   "metadata": {},
   "outputs": [
    {
     "name": "stdout",
     "output_type": "stream",
     "text": [
      "recursiveFibonacci ran for 0.5715715999999986 seconds on average over 30 function calls.\n",
      "recursiveMemoizedFibonacci ran for 0.0005838000000153443 seconds on average over 30 function calls.\n",
      "recursiveNativeMemoizedFibonacci ran for 0.020465199999989636 seconds on average over 30 function calls.\n",
      "recursiveMatrixFibonacci ran for 0.0012650999999834767 seconds on average over 30 function calls.\n",
      "generatorFibonacci ran for 0.00010910000000308173 seconds on average over 30 function calls.\n",
      "iterativeFibonacci ran for 4.400000000259752e-05 seconds on average over 30 function calls.\n",
      "binetFibonacci ran for 2.509999998778767e-05 seconds on average over 30 function calls.\n"
     ]
    }
   ],
   "source": [
    "if __name__ == \"__main__\":\n",
    "\n",
    "    # print(recursiveFibonacci(25))  # Test for correctness.\n",
    "    # print(recursiveMemoizedFibonacci(25))  # Test for correctness.\n",
    "    # print(recursiveMatrixFibonacci(25))  # Test for correctness.\n",
    "    # print(generatorFibonacci(25))  # Test for correctness.\n",
    "    # print(iterativeFibonacci(25))  # Test for correctness.\n",
    "    # print(binetFibonacci(25))  # Test for correctness.\n",
    "\n",
    "    # A list of all Fibonacci Functions to time.\n",
    "    functions = [recursiveFibonacci, recursiveMemoizedFibonacci,\n",
    "                 recursiveNativeMemoizedFibonacci,\n",
    "                 recursiveMatrixFibonacci, generatorFibonacci,\n",
    "                 iterativeFibonacci, binetFibonacci]\n",
    "\n",
    "    timeFibonacci(functions, 25, 30)  # Time the functions."
   ]
  },
  {
   "cell_type": "markdown",
   "metadata": {},
   "source": [
    "#### Analysis\n",
    "\n",
    "The Binet calculation scales better with larger n as it is $\\theta (1)$ while the iterative is still better\n",
    "than the recursive definition even though both are close to $\\theta (n)$ since the overhead for the recursion is extremely expensive.  The recursive matrix definition is faster then the generic recursive definition.  Memoization drastically increases performance.  Surprising to me that the native cache method for memoization\n",
    "is slower than the homebrew implementation."
   ]
  }
 ],
 "metadata": {
  "interpreter": {
   "hash": "8bbcefd7165799a238ce1f8b683c728a54bc734f4e2e10b5df74ecee63f3034e"
  },
  "kernelspec": {
   "display_name": "Python 3.9.0 64-bit",
   "language": "python",
   "name": "python3"
  },
  "language_info": {
   "codemirror_mode": {
    "name": "ipython",
    "version": 3
   },
   "file_extension": ".py",
   "mimetype": "text/x-python",
   "name": "python",
   "nbconvert_exporter": "python",
   "pygments_lexer": "ipython3",
   "version": "3.9.0"
  },
  "orig_nbformat": 4
 },
 "nbformat": 4,
 "nbformat_minor": 2
}
