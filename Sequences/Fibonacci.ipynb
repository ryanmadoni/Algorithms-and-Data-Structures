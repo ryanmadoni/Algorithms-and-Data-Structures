{
 "cells": [
  {
   "cell_type": "markdown",
   "metadata": {},
   "source": [
    "##### Author: Ryan Adoni\n",
    "##### Date: 9/22/2021\n",
    "##### Description: The Fibonacci Sequence "
   ]
  },
  {
   "cell_type": "code",
   "execution_count": 3,
   "metadata": {},
   "outputs": [],
   "source": [
    "import timeit\n",
    "import sys\n",
    "from math import sqrt\n",
    "import numpy as np\n",
    "\n",
    "sys.setrecursionlimit(10000) # Set the recursion limit to some high number for testing for the recursive function."
   ]
  },
  {
   "cell_type": "code",
   "execution_count": 4,
   "metadata": {},
   "outputs": [],
   "source": [
    "def recursiveFibonacci(n):\n",
    "    \"\"\"\n",
    "    An implementation of the Fibonacci sequence using recursion (a pretty poor implementation).  Takes in a\n",
    "    positive integer or zero, n, and returns the nth Fibonacci number.\n",
    "    \"\"\"\n",
    "\n",
    "    # Make sure a valid n was entered.\n",
    "    if n < 0: \n",
    "        return None # Return None if a number less than 0 was entered.\n",
    "\n",
    "    # The base case for the recursion\n",
    "    if n <= 2:\n",
    "        return 0 if n == 0 else 1 # return 1 for the first and second Fibonacci number.  Return 0 for the zeroth Fibonacci number.\n",
    "\n",
    "    return recursiveFibonacci(n - 1) + recursiveFibonacci(n - 2) # Recurse to return the nth Fibonacci number.\n"
   ]
  },
  {
   "cell_type": "code",
   "execution_count": 5,
   "metadata": {},
   "outputs": [],
   "source": [
    "def recursiveMemoizedFibonacci(n):\n",
    "    \"\"\"\n",
    "    An implementation of the Fibonacci sequence using memoized recursion.  Takes in a positive integer \n",
    "    or zero, n, and returns the nth Fibonacci number.\n",
    "    \"\"\"\n",
    "    FibonacciDictionary = {} # A dictionary to store Fibonacci values that have been calculated already.\n",
    "\n",
    "    def recursiveMemoizedFibonacciHelper(n):\n",
    "        # Make sure a valid n was entered.\n",
    "        if n < 0: \n",
    "            return None # Return None if a number less than 0 was entered.\n",
    "\n",
    "        # The base case for the recursion.\n",
    "        if n <= 2:\n",
    "            return 0 if n == 0 else 1 # return 1 for the first and second Fibonacci number.  Return 0 for the zeroth Fibonacci number.\n",
    "        \n",
    "        # Check if the n-1th Fibonacci number has been calculated already.\n",
    "        if n - 1 not in FibonacciDictionary:\n",
    "            FibonacciDictionary[n - 1] = recursiveMemoizedFibonacciHelper(n - 1) # Calculate the value of the n-1st Fibonacci value and at it to the dictionary, FibonacciDictionary.\n",
    "\n",
    "        # Check if the n-2nd Fibonacci number has been calculated already.\n",
    "        if n - 2 not in FibonacciDictionary:\n",
    "            FibonacciDictionary[n - 2] = recursiveMemoizedFibonacciHelper(n - 2) # Calculate the value of the n-2st Fibonacci value and at it to the dictionary, FibonacciDictionary.\n",
    "\n",
    "        return FibonacciDictionary[n - 1] + FibonacciDictionary[n - 2] # Recurse to return the nth Fibonacci number.\n",
    "\n",
    "    return recursiveMemoizedFibonacciHelper(n) # Return the output of the helper function.\n"
   ]
  },
  {
   "cell_type": "code",
   "execution_count": 6,
   "metadata": {},
   "outputs": [],
   "source": [
    "def recursiveMatrixFibonacci(N):\n",
    "    \"\"\"\n",
    "    An implementation of the Fibonacci sequence using the matrix representation of Fibonacci numbers.  Takes in\n",
    "    a positive integer or zero, N, and returns the Nth Fibonacci number (Requires NumPy).\n",
    "    \"\"\"\n",
    "    A = np.array([[1, 1], [1, 0]]) # Ininitialize ther matrix, A.\n",
    "\n",
    "    def helper(n, F):\n",
    "        \"\"\"\n",
    "        A helper function to execute most of the work and so A is not repeatedly instantiated on the recursive \n",
    "        stack.  Takes in the current Fibonacci number, n, and a matrix representation of Fn and Fn+1, F.\n",
    "        \"\"\"\n",
    "\n",
    "        # Base case.  Checks if n is equal to N.\n",
    "        if n == N:\n",
    "            return F[0][0] # return the Nth Fibonacci number.\n",
    "        \n",
    "        return helper(n + 1, A @ F) # Call the helper.  Increment n and dot A with F\n",
    "\n",
    "    return helper(0, np.array([[0], [1]])) # Call and return the helper using it's initial values.\n"
   ]
  },
  {
   "cell_type": "code",
   "execution_count": 7,
   "metadata": {},
   "outputs": [],
   "source": [
    "def fibonacciGenerator():\n",
    "    \"\"\"\n",
    "    A generator to generate numbers in the Fibonacci sequence sequentially\n",
    "    \"\"\"\n",
    "    nFib = 1 # set the nth Fibonacci number\n",
    "    nPlusOnefib = 1 # set the n+1th Fibonacci number\n",
    "    \n",
    "    # loop forever\n",
    "    while True:\n",
    "        yield nFib #yield the nth Fibonacci number\n",
    "        nPlusTwoFib = nFib + nPlusOnefib # calculate the n+2th Fibonacci number\n",
    "        nFib = nPlusOnefib # update the nth Fibonacci number\n",
    "        nPlusOnefib = nPlusTwoFib # update the n+1th Fibonacci number\n",
    "\n",
    "\n",
    "\n",
    "def generatorFibonacci(n):\n",
    "    \"\"\"\n",
    "    Takes as input a positive integer, n, then uses a Python generator to generate the nth Fibonacci nummber.\n",
    "    \"\"\"\n",
    "    fibGenerator = fibonacciGenerator() # Instantiate the Fibonacci generator.\n",
    "\n",
    "    # Loop for n - 1 times to calcualte the n-1st Fibonacci number.\n",
    "    for _ in range(n - 1):\n",
    "        next(fibGenerator) # Calculate the next Fibonacci number.\n",
    "    \n",
    "    return next(fibGenerator) # Return the nth Fibonacci number.\n"
   ]
  },
  {
   "cell_type": "code",
   "execution_count": 8,
   "metadata": {},
   "outputs": [],
   "source": [
    "def iterativeFibonacci(n):\n",
    "    \"\"\"\n",
    "    An implementation of the Fibonacci sequence using iteration.  Takes in a positive integer or zero, n, \n",
    "    and returns the nth Fibonacci number.\n",
    "    \"\"\"\n",
    "\n",
    "    # Make sure a valid n was entered.\n",
    "    if n <= 0: \n",
    "        return None if n < 0 else 0 # Return None if a number less than 0 was entered and 0 if 0 was entered.\n",
    "\n",
    "    n0, n1 = 0, 1 # Set two variables representing the nth and n+1th Fibonacci numbers.\n",
    "\n",
    "    # Loop until n is 0 and decrement n each iteration.\n",
    "    while (n := n - 1):\n",
    "        temp = n1 # Save n1 as a temporary variable\n",
    "        n0, n1 = temp, n0 + n1 # Set n0 to n1 and n1 to the sum of the previous two numbers.\n",
    "\n",
    "    return n1 # return n0, the nth Fibonacci number.\n"
   ]
  },
  {
   "cell_type": "code",
   "execution_count": 9,
   "metadata": {},
   "outputs": [],
   "source": [
    "def binetFibonacci(n):\n",
    "    \"\"\"\n",
    "    An implementation of the Fibonacci sequence using the Binet formula, the fact that the nth Fibonacci number\n",
    "    satisfies the following equation: Fn =  [phi^n / sqrt(5)] where phi = (1 + sqrt(5)) / 2 and [] represents\n",
    "    the closest integer function.  Takes in a positive integer or zero, n, and returns the nth Fibonacci number.\n",
    "    \"\"\"\n",
    "    return round(((1 + sqrt(5)) / 2) ** n / sqrt(5)) # Use a simplfied version of the Binet formula to calculate and return the nth Fibonacci number.\n"
   ]
  },
  {
   "cell_type": "markdown",
   "metadata": {},
   "source": []
  },
  {
   "cell_type": "code",
   "execution_count": 10,
   "metadata": {},
   "outputs": [],
   "source": [
    "def wrapper(func, *args, **kwargs):\n",
    "    \"\"\"\n",
    "    Define a wrapper to pass functions to the timeit function\n",
    "    \"\"\"\n",
    "    def wrapped():\n",
    "        \"\"\"\n",
    "        A helper function.\n",
    "        \"\"\"\n",
    "        return func(*args, **kwargs) # Call and return the wrapped function.\n",
    "\n",
    "    return wrapped # Return the wrapper.\n",
    "\n",
    "\n",
    "\n",
    "def timeFibonacci(functions, n, attempts):\n",
    "    \"\"\"\n",
    "    Takes as input a list of functions that map positive integers to their nth Fibonacci numbers, functions, \n",
    "    and two positive integers, n and attempts and times the Fibonacci functions on input n for attempts times.\n",
    "    The function times each funtion and prints the timing results of each function in functions ran attempts \n",
    "    times and averaged over the number of attempts.\n",
    "    \"\"\"\n",
    "    \n",
    "    # Loop for all functions in lst.\n",
    "    for function in functions:\n",
    "        time = timeit.timeit(wrapper(function, n), number = attempts) # Calculate the average time to run the function on n attempts times.\n",
    "        print(f\"{function.__name__} ran for {time} seconds on average over {attempts} function calls.\") # Print the timing results nicely."
   ]
  },
  {
   "cell_type": "code",
   "execution_count": 11,
   "metadata": {},
   "outputs": [
    {
     "name": "stdout",
     "output_type": "stream",
     "text": [
      "recursiveFibonacci ran for 0.6279696000000001 seconds on average over 30 function calls.\n",
      "recursiveMemoizedFibonacci ran for 0.00024309999999960752 seconds on average over 30 function calls.\n",
      "recursiveMatrixFibonacci ran for 0.0016054999999992603 seconds on average over 30 function calls.\n",
      "generatorFibonacci ran for 0.00020639999999971792 seconds on average over 30 function calls.\n",
      "iterativeFibonacci ran for 0.00023169999999961277 seconds on average over 30 function calls.\n",
      "binetFibonacci ran for 5.279999999974194e-05 seconds on average over 30 function calls.\n"
     ]
    }
   ],
   "source": [
    "if __name__ == \"__main__\":\n",
    "\n",
    "    # print(recursiveFibonacci(25)) # Test for correctness.\n",
    "    # print(recursiveMemoizedFibonacci(25)) # Test for correctness.\n",
    "    # print(matrixFibonacci(25)) # Test for correctness.\n",
    "    # print(generatorFibonacci(25)) # Test for correctness.\n",
    "    # print(iterativeFibonacci(25)) # Test for correctness.\n",
    "    # print(binetFibonacci(25)) # Test for correctness.\n",
    "\n",
    "    # A list of all Fibonacci Functions to time.\n",
    "    functions = [recursiveFibonacci, recursiveMemoizedFibonacci, recursiveMatrixFibonacci, \\\n",
    "                 generatorFibonacci, iterativeFibonacci, binetFibonacci]\n",
    "\n",
    "    timeFibonacci(functions, 25, 30) # Time the functions.\n",
    "\n",
    "    # The Binet calculation scales better with larger n as it is theta(1) while the iterative is still better\n",
    "    # than the recursive definition even though both are close to theta(n) since the overhead for the recursion\n",
    "    # is extremely expensive.  The recursive matrix definition is faster then the generic recrusive definition.\n",
    "    # Memoization drastically increases performance.\n",
    "            "
   ]
  }
 ],
 "metadata": {
  "interpreter": {
   "hash": "8bbcefd7165799a238ce1f8b683c728a54bc734f4e2e10b5df74ecee63f3034e"
  },
  "kernelspec": {
   "display_name": "Python 3.9.0 64-bit",
   "language": "python",
   "name": "python3"
  },
  "language_info": {
   "codemirror_mode": {
    "name": "ipython",
    "version": 3
   },
   "file_extension": ".py",
   "mimetype": "text/x-python",
   "name": "python",
   "nbconvert_exporter": "python",
   "pygments_lexer": "ipython3",
   "version": "3.9.0"
  },
  "orig_nbformat": 4
 },
 "nbformat": 4,
 "nbformat_minor": 2
}
